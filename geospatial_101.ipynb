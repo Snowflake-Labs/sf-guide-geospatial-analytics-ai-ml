{
 "metadata": {
  "kernelspec": {
   "display_name": "Streamlit Notebook",
   "name": "streamlit"
  }
 },
 "nbformat_minor": 5,
 "nbformat": 4,
 "cells": [
  {
   "cell_type": "markdown",
   "id": "c5e74461-776c-4ada-923a-6a9669cc974c",
   "metadata": {
    "name": "Intro",
    "collapsed": false,
    "resultHeight": 932
   },
   "source": "### 1. Overview\nGeospatial query capabilities in Snowflake are built upon a combination of data types and specialized query functions that can be used to parse, construct, and perform calculations on geospatial objects. Additionally, geospatial data can be visualized in Snowflake using Streamlit. This guide provides an entry-level introduction to geospatial analytics and visualization in Snowflake. In this lab, you will explore a sample use case of identifying the closest healthcare facilities near a geographic point, and you will learn:\n- How to view the GEOGRAPHY data type with supported formats\n- How to construct a geospatial object from latitude and longitude values\n- How to extract latitude and longitude from a geography column\n- How to perform geospatial calculations and filtering\n- How to visualize geospatial data using Streamlit in Snowflake\n\n\n### 2. Acquire Data\nFor this lab oyu will use [Overture Maps - Places](https://app.snowflake.com/marketplace/listing/GZT0Z4CM1E9KR/carto-overture-maps-places) dataset from Marketplace. Now you can acquire sample geospatial data from the Snowflake Marketplace.\n\n* Navigate to the Marketplace screen using the menu on the left side of the window\n* Search for `Overture Maps` in the search bar\n* Find and click the `Overture Maps - Places` tile\n\nOn the Get Data screen, keep the default database name OVERTURE_MAPS__PLACES, as all of the future instructions will assume this name for the database.\n\n> aside negative\n>  On the `Get` screen, you may be prompted to complete your `user profile` if you have not done so before. Click the link as shown in the screenshot below. Enter your name and email address into the profile screen and click the blue `Save` button. You will be returned to the `Get` screen.\n\n\nCongratulations! You have just created a shared database from a listing on the Snowflake Marketplace.\n\nAs one additional preparation step you need to complete is to import libraries that you will use in this Lab, navigate to the `Packages` drop-down  in the upper right of the Notebook and search for `pydeck`. Click on `pydeck` to add it to the Python packages.\n\n### 3. Understanding Snowflake Geospatial Formats\nSnowflake supports GeoJSON, Well-Known Text (WKT) and Well-Known Binary (WKB) formats for loading and unloading geospatial data. You can use session or account parameters to control which of these format types is used to display geospatial data in your query results.\n\nRun the query below to explicitly set your geography output format to JSON."
  },
  {
   "cell_type": "code",
   "id": "61eba665-213c-43f7-aa8d-75404c9f077a",
   "metadata": {
    "language": "sql",
    "name": "query_1",
    "collapsed": false,
    "codeCollapsed": false,
    "resultHeight": 112
   },
   "outputs": [],
   "source": "ALTER SESSION SET GEOGRAPHY_OUTPUT_FORMAT = 'GEOJSON';",
   "execution_count": null
  },
  {
   "cell_type": "markdown",
   "id": "e3f8dbd8-6a7d-4ce2-b8b1-d79bf78984df",
   "metadata": {
    "name": "markdown_1",
    "collapsed": false,
    "resultHeight": 41
   },
   "source": "In the following two queries you will familiarize yourself with `Overture Maps - Points of Interest` data. First, check the size of the table:"
  },
  {
   "cell_type": "code",
   "id": "15f284aa-1078-4650-90c9-ae2e9a30cece",
   "metadata": {
    "language": "sql",
    "name": "query_2",
    "collapsed": false,
    "resultHeight": 112
   },
   "outputs": [],
   "source": "SELECT COUNT(*) FROM OVERTURE_MAPS__PLACES.CARTO.PLACE;",
   "execution_count": null
  },
  {
   "cell_type": "markdown",
   "id": "7c7ea704-e36a-4fc4-b783-1a7352ca3c63",
   "metadata": {
    "name": "markdown_2",
    "collapsed": false,
    "resultHeight": 41
   },
   "source": "In the following query, you will examine a geography column containing data on health and medical facilities. "
  },
  {
   "cell_type": "code",
   "id": "0ad13516-7e48-4a22-8d89-f99d53754039",
   "metadata": {
    "language": "sql",
    "name": "query_3",
    "collapsed": false,
    "resultHeight": 439
   },
   "outputs": [],
   "source": "\nSELECT \n     NAMES['primary']::STRING AS NAME,\n     ADDRESS.value:element:locality::STRING AS CITY,\n     ADDRESS.value:element:region::STRING AS STATE,\n     ADDRESS.value:element:postcode::STRING AS POSTCODE,\n     ADDRESS.value:element:country::STRING AS COUNTRY,\n     GEOMETRY\nFROM OVERTURE_MAPS__PLACES.CARTO.PLACE,\nLATERAL FLATTEN(INPUT => ADDRESSES:list) AS ADDRESS\nWHERE CATEGORIES['primary'] ='health_and_medical'\nLIMIT 100;",
   "execution_count": null
  },
  {
   "cell_type": "markdown",
   "id": "f748a1ba-f364-418d-a255-ab5641fcb5de",
   "metadata": {
    "name": "markdown_3",
    "collapsed": false,
    "resultHeight": 175
   },
   "source": "Note that while the column is named `GEOMETRY` in this data source, it is stored in a `GEOGRAPHY` column in Snowflake, using the coordinate system [ESPG:4326](https://epsg.io/4326), also known as [WGS 84](https://en.wikipedia.org/wiki/World_Geodetic_System#WGS84). This coordinate system uses latitude and longitude as coordinates and is the most widely used coordinate system worldwide. If you are storing geospatial data using latitude and longitude, then the `GEOGRAPHY` data type is the most suitable for storing your data.\n\n\nThe contents of the `GEOMETRY` column in the output above, formatted as GeoJSON. \n\nRun the code below to update your session geography output format to [Well-Known Text (WKT)](https://en.wikipedia.org/wiki/Well-known_text_representation_of_geometry), which is arguably more readable."
  },
  {
   "cell_type": "code",
   "id": "20982462-4e6b-4f7b-939b-f1c01815d98a",
   "metadata": {
    "language": "sql",
    "name": "query_4",
    "collapsed": false,
    "resultHeight": 112
   },
   "outputs": [],
   "source": "ALTER SESSION SET GEOGRAPHY_OUTPUT_FORMAT = 'WKT';",
   "execution_count": null
  },
  {
   "cell_type": "markdown",
   "id": "69d5093f-c1ef-4df0-b2eb-a65c495ecd85",
   "metadata": {
    "name": "markdown_4",
    "collapsed": false,
    "resultHeight": 41
   },
   "source": "Now rerun the Overture maps query. Notice how the contents of the `GEOMETRY` column are displayed."
  },
  {
   "cell_type": "code",
   "id": "0446e6f9-1cec-4261-a71f-1c7b2733ce44",
   "metadata": {
    "language": "sql",
    "name": "query_5",
    "collapsed": false,
    "resultHeight": 439
   },
   "outputs": [],
   "source": "SELECT \n     NAMES['primary']::STRING AS NAME,\n     ADDRESS.value:element:locality::STRING AS CITY,\n     ADDRESS.value:element:region::STRING AS STATE,\n     ADDRESS.value:element:postcode::STRING AS POSTCODE,\n     ADDRESS.value:element:country::STRING AS COUNTRY,\n     geometry\nFROM OVERTURE_MAPS__PLACES.CARTO.PLACE,\nLATERAL FLATTEN(INPUT => ADDRESSES:list) AS ADDRESS\nWHERE CATEGORIES['primary'] ='health_and_medical'\nLIMIT 100;",
   "execution_count": null
  },
  {
   "cell_type": "markdown",
   "id": "8c976816-d48e-4348-969e-7ecf77c9b91e",
   "metadata": {
    "name": "markdown_5",
    "collapsed": false,
    "resultHeight": 113
   },
   "source": "### Constructing geospatial objects\nYou can use constructor functions such as [ST_MAKEPOINT](https://docs.snowflake.com/en/sql-reference/functions/st_makepoint), [ST_MAKELINE](https://docs.snowflake.com/en/sql-reference/functions/st_makeline) and [ST_POLYGON](https://docs.snowflake.com/en/sql-reference/functions/st_makepolygon) to create geospatial objects. Run the code below to create a geo point from latitude and longitude."
  },
  {
   "cell_type": "code",
   "id": "c31d3183-18c4-4b64-993f-4db9c36167e7",
   "metadata": {
    "language": "sql",
    "name": "query_6",
    "collapsed": false,
    "resultHeight": 112
   },
   "outputs": [],
   "source": "SELECT ST_MAKEPOINT(-74.0266511, 40.6346599) GEO_POINT",
   "execution_count": null
  },
  {
   "cell_type": "markdown",
   "id": "5b21858d-a33b-4f38-9a01-805fbbbda745",
   "metadata": {
    "name": "markdown_6",
    "collapsed": false,
    "resultHeight": 67
   },
   "source": "Alternatively, you can use the TO_GEOGRAPHY constructor function to create geospatial values. [TO_GEOGRAPHY](https://docs.snowflake.com/en/sql-reference/functions/to_geography) is a general purpose constructor where [ST_MAKEPOINT](https://docs.snowflake.com/en/sql-reference/functions/st_makepoint) specifically makes a POINT object. Run the code below:"
  },
  {
   "cell_type": "code",
   "id": "393cd164-55d5-4c1e-829c-e614c9da2328",
   "metadata": {
    "language": "sql",
    "name": "query_7",
    "collapsed": false,
    "resultHeight": 112
   },
   "outputs": [],
   "source": "SELECT TO_GEOGRAPHY('POINT(-74.0266511 40.6346599)') GEO_POINT",
   "execution_count": null
  },
  {
   "cell_type": "markdown",
   "id": "31680de3-8153-47ea-82b3-cabe0275d1cb",
   "metadata": {
    "name": "markdown_7",
    "collapsed": false,
    "resultHeight": 129
   },
   "source": "### 4. Visualizing spatial data in Streamlit\nUsing Streamlit, you can visualize your data using tools like `st.map` or popular python packages like `pydeck`. \n\nAdd a new Python cell and run the code below to see how you can use `st.map` to show a point on a map."
  },
  {
   "cell_type": "code",
   "id": "1fac9943-9eee-47ee-9e72-573b40c899a9",
   "metadata": {
    "language": "python",
    "name": "python_1",
    "collapsed": false,
    "resultHeight": 598
   },
   "outputs": [],
   "source": "import streamlit as st\nimport pandas as pd\n\n# Define the coordinates for the point\nlatitude = 40.755702\nlongitude = -73.986226\n\n# Create a DataFrame with the point\ndata = pd.DataFrame({\n    'lat': [latitude],\n    'lon': [longitude]\n})\n\n# Display the map with the point\nst.title(\"Display a Points with st.map\")\nst.map(data)",
   "execution_count": null
  },
  {
   "cell_type": "markdown",
   "id": "32b00e0c-488e-4d87-9f2f-81c870a2876a",
   "metadata": {
    "name": "markdown_8",
    "collapsed": false,
    "resultHeight": 127
   },
   "source": "## Accessing coordinates of a geospatial object\nSometimes you need to do the opposite - access individual coordinates in a geospatial object. You can do that with accessor functions [ST_X](https://docs.snowflake.com/en/sql-reference/functions/st_x) and [ST_Y](https://docs.snowflake.com/en/sql-reference/functions/st_y) to access longitude and latitude accordingly. Run the code below:"
  },
  {
   "cell_type": "code",
   "id": "f9dc7e4d-7493-444d-8dab-b95ce5267543",
   "metadata": {
    "language": "sql",
    "name": "query_8",
    "collapsed": false,
    "resultHeight": 439
   },
   "outputs": [],
   "source": "SELECT \n     NAMES['primary']::STRING AS NAME,\n     ST_X(GEOMETRY) AS LONGITUDE,\n     ST_Y(GEOMETRY) AS LATITUDE,\nFROM OVERTURE_MAPS__PLACES.CARTO.PLACE,\nLATERAL FLATTEN(INPUT => ADDRESSES:list) AS ADDRESS\nWHERE CATEGORIES['primary'] ='health_and_medical'\nLIMIT 100;",
   "execution_count": null
  },
  {
   "cell_type": "markdown",
   "id": "533158af-7d74-4610-9263-1e9c32514b5b",
   "metadata": {
    "name": "markdown_9",
    "collapsed": false,
    "resultHeight": 195
   },
   "source": "## Finding the nearest points and calculating distances\nYou can use relationship and measurement functions to perform spatial joins and other analytical operations. For example, you can use [ST_DWITHIN](https://docs.snowflake.com/en/sql-reference/functions/st_dwithin) to find health facilities that are within a mile from you, and you can use [ST_DISTANCE](https://docs.snowflake.com/en/sql-reference/functions/st_distance) to measure the actual distance between points.\n\nRun the code below to obtain the ten nearest health facilities that are no more than approximately a mile (1,600 meters) away from a given point. The records are sorted by distance."
  },
  {
   "cell_type": "code",
   "id": "98c44b20-1fdb-400f-9303-927e1ffb7939",
   "metadata": {
    "language": "sql",
    "name": "query_9",
    "collapsed": false,
    "codeCollapsed": false,
    "resultHeight": 427
   },
   "outputs": [],
   "source": "SELECT \n     NAMES['primary']::STRING AS NAME,\n     ST_X(GEOMETRY) AS LONGITUDE,\n     ST_Y(GEOMETRY) AS LATITUDE,\n     GEOMETRY,\n     ST_DISTANCE(GEOMETRY,TO_GEOGRAPHY('POINT(-73.986226 40.755702)'))::NUMBER(6,2) \n        AS DISTANCE_METERS \nFROM OVERTURE_MAPS__PLACES.CARTO.PLACE\nWHERE CATEGORIES['primary'] ='health_and_medical' AND\nST_DWITHIN(GEOMETRY,ST_MAKEPOINT(-73.986226, 40.755702),1600) = TRUE \nORDER BY 5 LIMIT 10;",
   "execution_count": null
  },
  {
   "cell_type": "markdown",
   "id": "5659e3a2-8ea7-4581-917a-b712febbd50d",
   "metadata": {
    "name": "markdown_10",
    "collapsed": false,
    "resultHeight": 224
   },
   "source": "Notice that this query runs on a table with over 53M rows. Snowflake's geospatial data types are very efficient!\n\n# Creating multi-layered maps in Streamlit\nUsing Streamlit and Pydeck, you can create a multi-layered visualization. \n\nTake note of the name of your previous cell and run the command below in a python cell to convert the results of the previous query into a pandas dataframe. We will reference this dataframe in the visualization."
  },
  {
   "cell_type": "code",
   "id": "bb207bca-56d8-404b-b324-10dba938c534",
   "metadata": {
    "language": "python",
    "name": "python_2",
    "collapsed": false,
    "resultHeight": 0
   },
   "outputs": [],
   "source": "df = query_9.to_pandas()",
   "execution_count": null
  },
  {
   "cell_type": "markdown",
   "id": "cfe8d939-2ab4-4e77-9a32-7eefd6f2d1f0",
   "metadata": {
    "name": "markdown_11",
    "collapsed": false,
    "resultHeight": 67
   },
   "source": "Add a new python cell and visualize the top 10 health facilities relative to the reference point. Pydeck supports multi-layered maps that can be customized with tooltips and other features."
  },
  {
   "cell_type": "code",
   "id": "68b1a3a8-0071-4c8e-89a1-ff4dd3144a0f",
   "metadata": {
    "language": "python",
    "name": "python_3",
    "collapsed": false,
    "resultHeight": 565
   },
   "outputs": [],
   "source": "import streamlit as st\nimport pandas as pd\nimport pydeck as pdk\n\n# Define the coordinates for your specific location\nlatitude = 40.755702\nlongitude = -73.986226\n\n# Create a DataFrame for your location\nmy_location_df = pd.DataFrame({\n    'lat': [latitude],\n    'lon': [longitude]\n})\n\n# Create a PyDeck Layer for visualizing points with larger size and a tooltip for NAME\ndata_layer = pdk.Layer(\n    \"ScatterplotLayer\",\n    df,\n    get_position='[LONGITUDE, LATITUDE]',\n    get_radius=50,  # Adjust this value for larger points\n    get_fill_color='[255, 0, 0, 160]',  # Red color with transparency\n    pickable=True,\n    get_tooltip=['NAME'],  # Add NAME as a tooltip\n)\n\n# Create a PyDeck Layer for your location with a different color and size\nmy_location_layer = pdk.Layer(\n    \"ScatterplotLayer\",\n    my_location_df,\n    get_position='[lon, lat]',\n    get_radius=100,  # Larger radius to highlight your location\n    get_fill_color='[0, 0, 255, 200]',  # Blue color with transparency\n    pickable=True,\n)\n\n# Set the view on the map\nview_state = pdk.ViewState(\n    latitude=df['LATITUDE'].mean(),\n    longitude=df['LONGITUDE'].mean(),\n    zoom=13.5,  # Adjust zoom if needed\n    pitch=0,\n)\n\n# Define the tooltip\ntooltip = {\n    \"html\": \"<b>Facility Name:</b> {NAME}\",\n    \"style\": {\"color\": \"white\"}\n}\n\n# Render the map with both layers and tooltip\nr = pdk.Deck(\n    layers=[data_layer, my_location_layer],\n    initial_view_state=view_state,\n    map_style='mapbox://styles/mapbox/light-v10',\n    tooltip=tooltip\n)\n\nst.write('10 Nearest Health Facilities')\nst.pydeck_chart(r, use_container_width=True)\n",
   "execution_count": null
  },
  {
   "cell_type": "markdown",
   "id": "8a129253-a939-426e-84ff-4d15d7607c3d",
   "metadata": {
    "name": "cell9",
    "collapsed": false,
    "resultHeight": 88
   },
   "source": "### Conclusion\n\nCongratulations! You have completed this introductory quickstart. You learn basic operations to construct, process and visualise geospatial data."
  }
 ]
}