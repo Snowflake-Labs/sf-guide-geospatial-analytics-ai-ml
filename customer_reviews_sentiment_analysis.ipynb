{
 "metadata": {
  "kernelspec": {
   "display_name": "Streamlit Notebook",
   "name": "streamlit"
  }
 },
 "nbformat_minor": 5,
 "nbformat": 4,
 "cells": [
  {
   "cell_type": "markdown",
   "id": "3775908f-ca36-4846-8f38-5adca39217f2",
   "metadata": {
    "name": "Intro",
    "collapsed": false,
    "resultHeight": 465
   },
   "source": "### Intro\n\nBefore starting with this lab, complete the preparation steps from `Setup your account` page. Additionaly click on the `Packages` tab in the top of the Notebook and add `pydeck` and `branca` to the list of packages as our app will be using them. \n\nThis lab will show you how to inject AI into your spatial analysis using Cortex Large Language Model (LLM) Functions to help you take your product and marketing strategy to the next level. Specifically, you’re going to build a data application that gives food delivery companies the ability to explore the sentiments of customers in the Greater Bay Area. To do this, you use the Cortex LLM Complete Function to classify customer sentiment and extract the underlying reasons for that sentiment from a customer review. Then you use the Discrete [Global Grid H3](https://www.uber.com/en-DE/blog/h3/) for visualizing and exploring spatial data. \n\n### Step 1. Data acquisition\n\nTo complete the project you will use a synthetic dataset with delivery orders with the feedback for each order. We will simplify the task of data acquisition by putting the dataset in an S3 bucket, which you will connect as an external stage.\n\nFirst specify the default Database, Schema and the Warehouse and create a file format that corresponds to the format of the trip and holiday data we stored in S3. Run the following queries:\n"
  },
  {
   "cell_type": "code",
   "id": "8d50cbf4-0c8d-4950-86cb-114990437ac9",
   "metadata": {
    "language": "sql",
    "name": "query_1",
    "collapsed": false,
    "resultHeight": 112
   },
   "source": "CREATE DATABASE IF NOT EXISTS advanced_analytics;\nUSE ADVANCED_ANALYTICS.PUBLIC;\nCREATE OR REPLACE FILE FORMAT csv_format_nocompression TYPE = csv\nFIELD_OPTIONALLY_ENCLOSED_BY = '\"' FIELD_DELIMITER = ',' skip_header = 1;",
   "execution_count": null,
   "outputs": []
  },
  {
   "cell_type": "markdown",
   "id": "c695373e-ac74-4b62-a1f1-08206cbd5c81",
   "metadata": {
    "name": "markdown_1",
    "resultHeight": 41
   },
   "source": "Now you will create an external stage using S3 with test data:"
  },
  {
   "cell_type": "code",
   "id": "e7ec209f-b264-49ae-90bb-2dd86fcacc86",
   "metadata": {
    "language": "sql",
    "name": "query_2",
    "resultHeight": 112,
    "collapsed": false
   },
   "outputs": [],
   "source": "CREATE OR REPLACE STAGE ADVANCED_ANALYTICS.PUBLIC.AA_STAGE URL = 's3://sfquickstarts/hol_geo_spatial_ml_using_snowflake_cortex/';",
   "execution_count": null
  },
  {
   "cell_type": "markdown",
   "id": "807388fa-87c4-4c64-bfcc-f2f8dd0ad21c",
   "metadata": {
    "name": "markdown_2",
    "collapsed": false,
    "resultHeight": 41
   },
   "source": "Then create a table where you will store the customer feedback dataset:"
  },
  {
   "cell_type": "code",
   "id": "b9186668-9066-4859-8a41-89381316d485",
   "metadata": {
    "language": "sql",
    "name": "query_3",
    "resultHeight": 112,
    "collapsed": false
   },
   "outputs": [],
   "source": "CREATE OR REPLACE TABLE ADVANCED_ANALYTICS.PUBLIC.ORDERS_REVIEWS AS\nSELECT  $1::NUMBER as order_id,\n        $2::VARCHAR as customer_id,\n        TO_GEOGRAPHY($3) as delivery_location,\n        $4::NUMBER as delivery_postcode,\n        $5::FLOAT as delivery_distance_miles,\n        $6::VARCHAR as restaurant_food_type,\n        TO_GEOGRAPHY($7) as restaurant_location,\n        $8::NUMBER as restaurant_postcode,\n        $9::VARCHAR as restaurant_id,\n        $10::VARCHAR as review\nFROM @ADVANCED_ANALYTICS.PUBLIC.AA_STAGE/food_delivery_reviews.csv (file_format => 'csv_format_nocompression');",
   "execution_count": null
  },
  {
   "cell_type": "markdown",
   "id": "93da5016-4adf-4b4a-9884-3bd2632d339c",
   "metadata": {
    "name": "markdown_3",
    "collapsed": false,
    "resultHeight": 181
   },
   "source": "Congratulations!  Now you have `orders_reviews` table containing 100K orders with reviews.\n\n### Step 2. Preparing and running the prompt\n\nIn this step, you will prepare the prompt to run the analysis. For the task at hand, you will use the CORTEX.COMPLETE ( ) function because it is purpose-built to power data processing and data generation tasks. First, let's create a cortex role. In the query below change the username AA to the username you used to login to Snowflake."
  },
  {
   "cell_type": "code",
   "id": "ede4f675-d0a3-48f9-83a7-9860328eada3",
   "metadata": {
    "language": "sql",
    "name": "query_4",
    "collapsed": false,
    "resultHeight": 112
   },
   "outputs": [],
   "source": "CREATE OR REPLACE ROLE cortex_user_role;\nGRANT DATABASE ROLE SNOWFLAKE.CORTEX_USER TO ROLE cortex_user_role;\n\nGRANT ROLE cortex_user_role TO USER geolab;",
   "execution_count": null
  },
  {
   "cell_type": "markdown",
   "id": "9c01c7b9-4e46-4b7c-b6fe-d0078cee2972",
   "metadata": {
    "name": "markdown_4",
    "collapsed": false,
    "resultHeight": 333
   },
   "source": "You are now ready to provide `CORTEX.COMPLETE()` functions with the instructions on the analysis that you want to produce. Specifically, using a raw table with reviews you'll create a new table with two additional columns: Overall Sentiment and Sentiment Categories which are composed of two different `CORTEX.COMPLETE()` prompts. For complex aspect-based sentiment analysis like this, you are going to pick the mixtral-8x7b, a very capable open-source LLM created by Mistral AI. \n* **Overall Sentiment** assigns an overall rating of the delivery: Very Positive, Positive, Neutral, Mixed, Negative, Very Negative, or other. \n* **Sentiment Categories** give us richer insights into why the overall rating is based on Food Cost, Quality, and Delivery Time. \n\nAs a general rule when writing a prompt, the instructions have to be simple, clear, and complete. For example, you will notice that you clearly define the task as classifying customer reviews into specific categories. It’s important to define constraints of the desired output, otherwise the LLM will produce unexpected output. Below, you specifically tell the LLM to categorize anything it is not sure of as Other, and explicitly tell it to respond in JSON format. "
  },
  {
   "cell_type": "code",
   "id": "86798bae-0c37-4f6f-ae6e-d0abdb1ec6e3",
   "metadata": {
    "language": "sql",
    "name": "query_5",
    "resultHeight": 112
   },
   "outputs": [],
   "source": "CREATE OR REPLACE TABLE ADVANCED_ANALYTICS.PUBLIC.ORDERS_REVIEWS_SENTIMENT_TEST as\nSELECT TOP 10\n    order_id\n    , customer_id\n    , delivery_location\n    , delivery_postcode\n    , delivery_distance_miles\n    , restaurant_food_type\n    , restaurant_location\n    , restaurant_postcode\n    , restaurant_id\n    , review\n    , snowflake.cortex.complete('mixtral-8x7b'\n        , concat('You are a helpful data assistant and your job is to return a JSON formatted response that classifies a customer review (represented in the <review> section) as one of the following seven sentiment categories (represented in the <categories> section). Return your classification exclusively in the JSON format: {classification: <<value>>}, where <<value>> is one of the 7 classification categories in the section <categories>. \n        \n        <categories>\n        Very Positive\n        Positive\n        Neutral\n        Mixed \n        Negative \n        Very Negative\n        Other\n        </categories>\n        \n        \"Other\" should be used for the classification if you are unsure of what to put. No other classifications apart from these seven in the <categories> section should be used.\n        \n        Here are some examples: \n            1. If review is: \"This place is awesome! The food tastes great, delivery was super fast, and the cost was cheap. Amazing!\", then the output should only be {\"Classification\": \"Very Positive\"}\n            2. If review is: \"Tried this new place and it was a good experience. Good food delivered fast.\", then the output should only be {\"Classification\": \"Positive\"}\n            3. If review is: \"Got food from this new joint. It was OK. Nothing special but nothing to complain about either\", then the output should only be {\"Classification\": \"Neural\"}\n            4. If review is: \"The pizza place we ordered from had the food delivered real quick and it tasted good. It just was pretty expensive for what we got.\", then the output should only be {\"Classification\": \"Mixed\"}\n            5. If review is: \"The hamburgers we ordered took a very long time and when they arrived they were just OK.\", then the output should only be {\"Classification\": \"Negative\"}\n            6. If review is: \"This food delivery experience was super bad. Overpriced, super slow, and the food was not that great. Disappointed.\", then the output should only be {\"Classification\": \"Very Negative\"}\n            7. If review is: \"An experience like none other\", then the output should be \"{\"Classification\": Other\"}\n        \n         It is very important that you do not return anything but the JSON formatted response. \n            \n        <review>', review, '</review>\n        JSON formatted Classification Response: '\n                )\n    ) as sentiment_assessment   \n    , snowflake.cortex.complete(\n        'mixtral-8x7b'\n        , concat('You are a helpful data assistant. Your job is to classify customer input <review>. If you are unsure, return null. For a given category classify the sentiment for that category as: Very Positive, Positive, Mixed, Neutral, Negative, Very Negative. Respond exclusively in JSON format.\n\n        {\n        food_cost:\n        food_quality:\n        food_delivery_time:\n    \n        }\n      '  \n, review \n, 'Return results'\n        )) as sentiment_categories\nFROM \n    ADVANCED_ANALYTICS.PUBLIC.ORDERS_REVIEWS;",
   "execution_count": null
  },
  {
   "cell_type": "markdown",
   "id": "3ba92e29-f93d-485b-8959-3b6ff9f01d91",
   "metadata": {
    "name": "markdown_5",
    "collapsed": false,
    "resultHeight": 119
   },
   "source": "If you look inside of `ADVANCED_ANALYTICS.PUBLIC.ORDERS_REVIEWS_SENTIMENT_TEST` you'll notice two new columns: `sentiment_assesment` and `sentiment_categories`. `sentiment_assesment` contains overall assessment of the sentiment based on the review and `sentiment_categories` has an evaluation of each of three components individually: cost, quality and delivery time."
  },
  {
   "cell_type": "code",
   "id": "7867fc59-2fcb-40ba-b58d-3ba6f702cf4b",
   "metadata": {
    "language": "sql",
    "name": "query_6",
    "collapsed": false,
    "resultHeight": 427
   },
   "outputs": [],
   "source": "SELECT * FROM ADVANCED_ANALYTICS.PUBLIC.ORDERS_REVIEWS_SENTIMENT_TEST",
   "execution_count": null
  },
  {
   "cell_type": "markdown",
   "id": "eb977ab0-28d9-408e-9fb8-17a38df570ef",
   "metadata": {
    "name": "markdown_6",
    "collapsed": false,
    "resultHeight": 93
   },
   "source": "Now when you see that the results stick to the expected format, you can run the query above without the `top 10` limit. This query might take some time to complete, so to save time for this quickstart we've ran it for you in advance and stored results which you can import into new table by running following two queries:"
  },
  {
   "cell_type": "code",
   "id": "c95bcdd8-ce4e-462d-81a5-e46b9396649b",
   "metadata": {
    "language": "sql",
    "name": "query_7",
    "resultHeight": 112,
    "collapsed": false
   },
   "outputs": [],
   "source": "CREATE OR REPLACE TABLE ADVANCED_ANALYTICS.PUBLIC.ORDERS_REVIEWS_SENTIMENT (\n\tORDER_ID NUMBER(38,0),\n\tCUSTOMER_ID VARCHAR(16777216),\n\tDELIVERY_LOCATION GEOGRAPHY,\n\tDELIVERY_POSTCODE NUMBER(38,0),\n\tDELIVERY_DISTANCE_MILES FLOAT,\n\tRESTAURANT_FOOD_TYPE VARCHAR(16777216),\n\tRESTAURANT_LOCATION GEOGRAPHY,\n\tRESTAURANT_POSTCODE NUMBER(38,0),\n\tRESTAURANT_ID VARCHAR(16777216),\n\tREVIEW VARCHAR(16777216),\n\tSENTIMENT_ASSESSMENT VARCHAR(16777216),\n\tSENTIMENT_CATEGORIES VARCHAR(16777216)\n);\n\nCOPY INTO ADVANCED_ANALYTICS.PUBLIC.ORDERS_REVIEWS_SENTIMENT\nFROM @ADVANCED_ANALYTICS.PUBLIC.AA_STAGE/food_delivery_reviews.csv\nFILE_FORMAT = (FORMAT_NAME = csv_format_nocompression);",
   "execution_count": null
  },
  {
   "cell_type": "markdown",
   "id": "608f439c-c4c9-4abd-914a-7b6676d2a4cf",
   "metadata": {
    "name": "markdown_7",
    "collapsed": false,
    "resultHeight": 113
   },
   "source": "### Step 3. Data transformation\n\nNow when you have a table with sentiment, you need to parse JSONs to store each component of the score into a separate column and convert the scoring provided by the LLM into numeric format, so you can easily visualize it. Run the following query:"
  },
  {
   "cell_type": "code",
   "id": "0d9fe151-020a-4e09-baa9-4737d747cfbb",
   "metadata": {
    "language": "sql",
    "name": "query_8",
    "resultHeight": 112,
    "collapsed": false
   },
   "outputs": [],
   "source": "CREATE OR REPLACE TABLE ADVANCED_ANALYTICS.PUBLIC.ORDERS_REVIEWS_SENTIMENT_ANALYSIS AS\nSELECT * exclude (food_cost, food_quality, food_delivery_time, sentiment) ,\n         CASE\n             WHEN sentiment = 'very positive' THEN 5\n             WHEN sentiment = 'positive' THEN 4\n             WHEN sentiment = 'neutral'\n                  OR sentiment = 'mixed' THEN 3\n             WHEN sentiment = 'negative' THEN 2\n             WHEN sentiment = 'very negative' THEN 1\n             ELSE NULL\n         END sentiment_score ,\n         CASE\n             WHEN food_cost = 'very positive' THEN 5\n             WHEN food_cost = 'positive' THEN 4\n             WHEN food_cost = 'neutral'\n                  OR food_cost = 'mixed' THEN 3\n             WHEN food_cost = 'negative' THEN 2\n             WHEN food_cost = 'very negative' THEN 1\n             ELSE NULL\n         END cost_score ,\n         CASE\n             WHEN food_quality = 'very positive' THEN 5\n             WHEN food_quality = 'positive' THEN 4\n             WHEN food_quality = 'neutral'\n                  OR food_quality = 'mixed' THEN 3\n             WHEN food_quality = 'negative' THEN 2\n             WHEN food_quality = 'very negative' THEN 1\n             ELSE NULL\n         END food_quality_score ,\n         CASE\n             WHEN food_delivery_time = 'very positive' THEN 5\n             WHEN food_delivery_time = 'positive' THEN 4\n             WHEN food_delivery_time = 'neutral'\n                  OR food_delivery_time = 'mixed' THEN 3\n             WHEN food_delivery_time = 'negative' THEN 2\n             WHEN food_delivery_time = 'very negative' THEN 1\n             ELSE NULL\n         END delivery_time_score\nFROM\n  (SELECT order_id ,\n          customer_id ,\n          delivery_location ,\n          delivery_postcode ,\n          delivery_distance_miles ,\n          restaurant_food_type ,\n          restaurant_location ,\n          restaurant_postcode ,\n          restaurant_id ,\n          review ,\n          try_parse_json(lower(sentiment_assessment)):classification::varchar AS sentiment ,\n          try_parse_json(lower(sentiment_categories)):food_cost::varchar AS food_cost ,\n          try_parse_json(lower(sentiment_categories)):food_quality::varchar AS food_quality ,\n          try_parse_json(lower(sentiment_categories)):food_delivery_time::varchar AS food_delivery_time\n   FROM ADVANCED_ANALYTICS.PUBLIC.ORDERS_REVIEWS_SENTIMENT);",
   "execution_count": null
  },
  {
   "cell_type": "markdown",
   "id": "101eb0f5-1150-402d-8f2e-1a2f43b5e40b",
   "metadata": {
    "name": "markdown_8",
    "collapsed": false,
    "resultHeight": 88
   },
   "source": "### Step 4. Data visualization\n\nIn this step, you will visualize the scoring results on the map. "
  },
  {
   "cell_type": "code",
   "id": "93bd2277-9e82-498e-aa86-76decd8ddd2e",
   "metadata": {
    "language": "python",
    "name": "python_1",
    "resultHeight": 934,
    "collapsed": false
   },
   "outputs": [],
   "source": "from snowflake.snowpark.context import get_active_session\nfrom typing import Tuple\nimport branca.colormap as cm\nimport pandas as pd\nimport pydeck as pdk\nimport streamlit as st\n\n@st.cache_data\ndef get_dataframe_from_raw_sql(query: str) -> pd.DataFrame:\n    session = get_active_session()\n    pandas_df = session.sql(query).to_pandas()\n    return pandas_df\n\ndef get_h3_df_orders_quantiles(resolution: float, type_of_location: str) -> pd.DataFrame:\n    df = get_dataframe_from_raw_sql(\n        f\"\"\"SELECT\n        H3_POINT_TO_CELL_STRING(to_geography({ type_of_location }), { resolution }) AS h3,\n        round(count(*),2) as count\n        FROM ADVANCED_ANALYTICS.PUBLIC.ORDERS_REVIEWS_SENTIMENT_ANALYSIS\n        GROUP BY 1\"\"\")\n\n    quantiles = get_quantile_in_column(df, \"COUNT\")\n    return df, quantiles\n\ndef get_h3_df_sentiment_quantiles(\n    resolution: float, type_of_sentiment: str, type_of_location: str\n) -> Tuple[pd.DataFrame, pd.core.series.Series]:\n    df = get_dataframe_from_raw_sql(\n        f\"\"\" SELECT \n        H3_POINT_TO_CELL_STRING(TO_GEOGRAPHY({ type_of_location }),{ resolution }) AS h3,\n        round(AVG({ type_of_sentiment }),2) AS count\n        FROM ADVANCED_ANALYTICS.PUBLIC.ORDERS_REVIEWS_SENTIMENT_ANALYSIS\n        WHERE { type_of_sentiment } IS NOT NULL \n        GROUP BY 1\"\"\")\n\n    quantiles = get_quantile_in_column(df, \"COUNT\")\n    df = df[(df[\"COUNT\"] >= values[0]) & (df[\"COUNT\"] <= values[1])]\n    return df, quantiles\n\ndef get_h3_layer(layer_dataframe: pd.DataFrame, elevation_3d: bool = False,) -> pdk.Layer:\n    highest_count_df = 0 if layer_dataframe is None else layer_dataframe[\"COUNT\"].max()\n    return pdk.Layer(\n        \"H3HexagonLayer\",\n        layer_dataframe,\n        get_hexagon=\"H3\",\n        get_fill_color=\"COLOR\",\n        get_line_color=\"COLOR\",\n        auto_highlight=True,\n        get_elevation=f\"COUNT/{highest_count_df}\",\n        elevation_scale=10000 if elevation_3d else 0,\n        elevation_range=[0, 300],\n        pickable=True,\n        opacity=0.5,\n        extruded=True)\n\ndef get_quantile_in_column(\n    quantile_dataframe: pd.DataFrame, column_name: str\n) -> pd.core.series.Series:\n    return quantile_dataframe[column_name].quantile([0, 0.25, 0.5, 0.75, 1])\n\ndef render_pydeck_chart(\n    chart_quantiles: pd.core.series.Series, \n    chart_dataframe: pd.DataFrame, \n    elevation_3d: bool = False):\n    colors = [\"gray\", \"blue\", \"green\", \"yellow\", \"orange\", \"red\"]\n    color_map = cm.LinearColormap(\n        colors,\n        vmin=chart_quantiles.min(),\n        vmax=chart_quantiles.max(),\n        index=chart_quantiles)\n    chart_dataframe[\"COLOR\"] = chart_dataframe[\"COUNT\"].apply(color_map.rgb_bytes_tuple)\n    st.pydeck_chart(\n        pdk.Deck(\n            map_provider=\"mapbox\",\n            map_style=\"light\",\n            initial_view_state=pdk.ViewState(\n                latitude=37.633,\n                longitude=-122.284,\n                zoom=7,\n                pitch=50 if elevation_3d else 0,\n                height=430),\n            tooltip={\"html\": \"<b>Value:</b> {COUNT}\",\n            \"style\": {\"color\": \"white\"}},\n            layers=get_h3_layer(chart_dataframe, elevation_3d)))\n\nst.title(\"Reviews of Food Delivery Orders\")\n\n\nh3_resolution = st.slider(\"H3 resolution\", min_value=6, max_value=9, value=7)\ntype_of_locations = st.selectbox(\"Dimensions\", (\"DELIVERY_LOCATION\", \"RESTAURANT_LOCATION\"), index=0)\ntype_of_data = st.selectbox(\n        \"Measures\",(\"ORDERS\",\"SENTIMENT_SCORE\",\"COST_SCORE\",\"FOOD_QUALITY_SCORE\",\"DELIVERY_TIME_SCORE\"), index=0)\nif type_of_data != \"ORDERS\":\n    values = st.slider(\"Select a range for score values\", 0.0, 5.0, (0.0, 5.0))\n    chckbox_3d_value = False\nelse:\n    chckbox_3d_value = st.checkbox(\"3D\", key=\"chkbx_forecast\", help=\"Renders H3 Hexagons in 3D\")\n\nif type_of_data != \"ORDERS\":\n    df, quantiles = get_h3_df_sentiment_quantiles(h3_resolution, type_of_data, type_of_locations)\n\nif type_of_data == \"ORDERS\":\n    df, quantiles = get_h3_df_orders_quantiles(h3_resolution, type_of_locations)\n\nst.image(\"https://sfquickstarts.s3.us-west-1.amazonaws.com/hol_geo_spatial_ml_using_snowflake_cortex/gradient.png\")\n\nrender_pydeck_chart(quantiles, df, chckbox_3d_value)",
   "execution_count": null
  },
  {
   "cell_type": "markdown",
   "id": "57262fa6-d2f2-4882-9718-29e877fcf293",
   "metadata": {
    "name": "markdown_9",
    "collapsed": false,
    "resultHeight": 779
   },
   "source": "You can start with the overall analysis of the order density. When you select `DELIVERY_LOCATION` as a Dimension and `ORDERS` as a Measure you'll see what areas correspond to the high number of orders. You can use scale 7 and zoom in to identify clear clusters of where the most deliveries are occurring. In this case you see most deliveries are in Santa Clara, San Jose, and the San Francisco Bay. In particular, the area on the San Francisco peninsula looks to be an area of interest. Zooming in further you can see a dense area of delivery orders. \n\nUsing a finer H3 resolution, 8 shows how the delivery densities are distributed more finely. From this resolution, you can see the orders are concentrated in Daly City and proceed down to San Bruno. Additionally, in the North, the majority of the orders are coming from the stretch of the Sunset District to the Mission District.\n\nNow that you know where the majority of orders are coming from, let's analyze whether there are interesting differences in customer satisfaction depending on where they are located. Select `DELIVERY LOCATION` as a dimension and `SENTIMENT_SCORE` as a Measure to see the overall sentiment score that the Cortex LLM Complete Function generated. You can notice that the customers are mostly satisfied in the areas of Daly City down to San Jose, in the Santa Rosa area, and around Dublin. You also see that the area between these is mostly showing unhappy customers.\n\nIn order to understand why customers in this area are unhappy, you analyze the aspect based sentiment results of the Cortex LLM Complete Function generated  for the categories of interest: food cost, delivery time, and the food quality. If you focus purely on the customers that were unhappy, you see that the primary reasons are food quality and food cost getting poor scores. Essentially, the food is not worth the cost and delivery time being fast does not make up for this. Check visualizations using the following combinations of parameters:\n\nIf you look at all H3 cells where food quality was high, the average sentiment score is also generally high. Again, you can see there are no cells where customers felt the food quality was above average in the greater Berkeley area. This could indicate either that high quality delivery food is uncommon or that the customers in these areas have higher expectations for delivery food.\n\nYou can also analyze what areas are getting higher scores for each of the categories and how it correlates with the overall sentiment scores for restaurants in each area.\n\nThe code from this quickstart can be reused for other industries, such as urban mobility, retail, finance, etc. Basically, any industry that involves providing a service with geo components and customer reviews."
  }
 ]
}