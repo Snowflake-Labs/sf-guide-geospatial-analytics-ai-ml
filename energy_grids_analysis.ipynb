{
 "metadata": {
  "kernelspec": {
   "display_name": "Streamlit Notebook",
   "name": "streamlit"
  }
 },
 "nbformat_minor": 5,
 "nbformat": 4,
 "cells": [
  {
   "cell_type": "markdown",
   "id": "3775908f-ca36-4846-8f38-5adca39217f2",
   "metadata": {
    "name": "Markdown_1",
    "collapsed": false,
    "resultHeight": 1154
   },
   "source": "## Overview\nGeospatial query capabilities in Snowflake are built upon a combination of data types and specialized query functions that can be used to parse, construct, and run calculations over geospatial objects. This guide will introduce you to the `GEOMETRY` data type, help you understand geospatial formats supported by Snowflake and walk you through the use of a variety of functions on sample geospatial data sets. \n\n### What You’ll Learn\n* How to acquire geospatial data from the Snowflake Marketplace\n* How to load geospatial data from a Stage\n* How to interpret the `GEOMETRY` data type and how it differs from the `GEOGRAPHY`\n* How to understand the different formats that `GEOMETRY` can be expressed in\n* How to do spatial analysis using the `GEOMETRY` and `GEOGRAPHY` data types\n* How to use Python UDFs for reading Shapefiles and creating custom functions\n* How to visualise geospatial data using Streamlit\n\n### What You’ll Build\nA sample use case that involves energy grids and LTE cell towers in the Netherlands You will answer the following questions:\n* What is the length of all energy grids in each municipality in the Netherlands?\n* What cell towers lack electricity cables nearby?\n\n## Acquire Marketplace Data and Analytics Toolbox\n\nThe first step in the guide is to acquire geospatial data sets that you can freely use to explore the basics of Snowflake's geospatial functionality.  The best place to acquire this data is the Snowflake Marketplace!  \n* Navigate to the `Marketplace` screen using the menu on the left side of the window\n* Search for `OpenCelliD` in the search bar\n* Find and click the` OpenCelliD - Open Database of Cell Towers` tile or just use [this](https://app.snowflake.com/marketplace/listing/GZSVZ8ON6J/dataconsulting-pl-opencellid-open-database-of-cell-towers) link\n* Once in the listing, click the big blue `Get` button\n* On the `Get Data` screen, change the name of the database from the default to `OPENCELLID`, as this name is shorter, and all future instructions will assume this name for the database.\n\nSimilarly to the above dataset, acquire [SedonaSnow](https://app.snowflake.com/marketplace/listing/GZTYZF0RTY3/wherobots-sedonasnow) application which extends Snowflake core geo features with more than 100 spatial functions. Navigate to the `Marketplace` screen using the menu on the left side of the window and find the `SedonaSnow`. Keep the the database name `SEDONASNOW` and optionally add more roles that can access the database.\n\nCongratulations! You have just got all the listing you need for this Lab. \n\n## Setup your Account\n\nCreate a new database and schema where you will store datasets in the `GEOMETRY` data type. Run th following SQL:"
  },
  {
   "cell_type": "code",
   "id": "8d50cbf4-0c8d-4950-86cb-114990437ac9",
   "metadata": {
    "language": "sql",
    "name": "SQL_1",
    "collapsed": false,
    "resultHeight": 112
   },
   "source": "CREATE DATABASE IF NOT EXISTS ADVANCED_ANALYTICS;\nCREATE SCHEMA IF NOT EXISTS ADVANCED_ANALYTICS.GEOMETRY;\nUSE SCHEMA ADVANCED_ANALYTICS.GEOMETRY;",
   "execution_count": null,
   "outputs": []
  },
  {
   "cell_type": "markdown",
   "id": "c695373e-ac74-4b62-a1f1-08206cbd5c81",
   "metadata": {
    "name": "Markdown_2",
    "collapsed": false,
    "resultHeight": 195
   },
   "source": "## Load Data from External Storage\n\nYou already understand how to get data from Marketplace, let's try another way of getting data, namely, getting it from the external S3 storage. While you loading data you will learn formats supported by geospatial data types.\n\nFor this quickstart we have prepared a dataset with energy grid infrastructure (cable lines) in the Netherlands. It is stored in the CSV format in the public S3 bucket. To import this data, create an external stage using the following SQL command:\n\n"
  },
  {
   "cell_type": "code",
   "id": "2393a760-5bb4-450f-b586-17e740921a9b",
   "metadata": {
    "language": "sql",
    "name": "SQL_2",
    "collapsed": false,
    "resultHeight": 112
   },
   "outputs": [],
   "source": "CREATE OR REPLACE STAGE ADVANCED_ANALYTICS.GEOMETRY.GEOSTAGE\n  URL = 's3://sfquickstarts/vhol_spatial_analysis_geometry_geography/';",
   "execution_count": null
  },
  {
   "cell_type": "markdown",
   "id": "ff230edd-33ab-4891-9b60-d352c37380cb",
   "metadata": {
    "name": "Markdown_3",
    "collapsed": false,
    "resultHeight": 41
   },
   "source": "Look inside of newly created stage:"
  },
  {
   "cell_type": "code",
   "id": "7a0ae074-8068-4c64-ae39-f5bb22954d93",
   "metadata": {
    "language": "sql",
    "name": "SQL_3",
    "collapsed": false,
    "resultHeight": 217
   },
   "outputs": [],
   "source": "list @ADVANCED_ANALYTICS.GEOMETRY.GEOSTAGE",
   "execution_count": null
  },
  {
   "cell_type": "markdown",
   "id": "746bc0e3-6c21-4b8a-9243-9593b4018c1b",
   "metadata": {
    "name": "Markdown_4",
    "collapsed": false,
    "resultHeight": 67
   },
   "source": "Now you will create a new table using the file from that stage. Run the following queries to create a new file format and a new table using the dataset stored in the Stage:"
  },
  {
   "cell_type": "code",
   "id": "3b39f91a-85eb-414c-9b5e-7d02a21a3f62",
   "metadata": {
    "language": "sql",
    "name": "SQL_4",
    "collapsed": false,
    "resultHeight": 112
   },
   "outputs": [],
   "source": "// Create file format\nCREATE OR REPLACE FILE FORMAT geocsv TYPE = CSV SKIP_HEADER = 1 FIELD_OPTIONALLY_ENCLOSED_BY = '\"';\n\nCREATE OR REPLACE TABLE ADVANCED_ANALYTICS.GEOMETRY.NL_CABLES_STATIONS AS \nSELECT to_geometry($1) AS geometry, \n       $2 AS id, \n       $3 AS type \nFROM @geostage/nl_stations_cables.csv (file_format => 'geocsv');",
   "execution_count": null
  },
  {
   "cell_type": "markdown",
   "id": "e3c239a9-2e59-498e-b64e-df714afcf6b9",
   "metadata": {
    "name": "Markdown_5",
    "collapsed": false,
    "resultHeight": 41
   },
   "source": "Look at the description of the table you just created by running the following queries: "
  },
  {
   "cell_type": "code",
   "id": "fd715c9e-9e3c-45e5-91a5-102935c11066",
   "metadata": {
    "language": "sql",
    "name": "SQL_5",
    "collapsed": false,
    "resultHeight": 182
   },
   "outputs": [],
   "source": "DESC TABLE ADVANCED_ANALYTICS.GEOMETRY.NL_CABLES_STATIONS;",
   "execution_count": null
  },
  {
   "cell_type": "markdown",
   "id": "026b8bcd-3003-4bf0-9194-13967607299c",
   "metadata": {
    "name": "Markdown_6",
    "collapsed": false,
    "resultHeight": 395
   },
   "source": "The [desc or describe](https://docs.snowflake.com/en/sql-reference/sql/desc.html) command shows you the definition of the view, including the columns, their data type, and other relevant details. Notice the `geometry` column is defined as `GEOMETRY` type. \n\nSnowflake supports 3 primary geospatial formats and 2 additional variations on those formats. They are:\n\n* **GeoJSON**: a JSON-based standard for representing geospatial data\n* **WKT & EWKT**: a \"Well Known Text\" string format for representing geospatial data and the \"Extended\" variation of that format\n* **WKB & EWKB:** a \"Well Known Binary\" format for representing geospatial data in binary and the \"Extended\" variation of that format\n\nThese formats are supported for ingestion (files containing those formats can be loaded into a `GEOMETRY` typed column), query result display, and data unloading to new files. You don't need to worry about how Snowflake stores the data under the covers but rather how the data is displayed to you or unloaded to files through the value of session variables called `GEOMETRY_OUTPUT_FORMAT`.\n\nRun the query below to make sure the current format is GeoJSON:"
  },
  {
   "cell_type": "code",
   "id": "53b9ebd8-d6b8-4029-ba64-c01a48541966",
   "metadata": {
    "language": "sql",
    "name": "SQL_6",
    "collapsed": false,
    "resultHeight": 112
   },
   "outputs": [],
   "source": "ALTER SESSION SET geometry_output_format = 'GEOJSON';",
   "execution_count": null
  },
  {
   "cell_type": "markdown",
   "id": "e556a059-a459-42c3-8fc8-58f462b55f90",
   "metadata": {
    "name": "Markdown_7",
    "collapsed": false,
    "resultHeight": 135
   },
   "source": "The [alter session](https://docs.snowflake.com/en/sql-reference/sql/alter-session.html) command lets you set a parameter for your current user session, which in this case is  `GEOMETRY_OUTPUT_FORMAT`. The default value for those parameters is `'GEOJSON'`, so normally you wouldn't have to run this command if you want that format, but this guide wants to be certain the next queries are run with the `'GEOJSON'` output.\n\nNow run the following query against the `nl_cables_stations` table to see energy grids in the Netherlands."
  },
  {
   "cell_type": "code",
   "id": "b120bada-89eb-4a1a-b2dd-08d348a53666",
   "metadata": {
    "language": "sql",
    "name": "SQL_7",
    "collapsed": false,
    "resultHeight": 252
   },
   "outputs": [],
   "source": "SELECT geometry\nFROM nl_cables_stations\nLIMIT 5;",
   "execution_count": null
  },
  {
   "cell_type": "markdown",
   "id": "747be553-310f-4dad-91cd-012e96a1ba77",
   "metadata": {
    "name": "Markdown_8",
    "collapsed": false,
    "resultHeight": 404
   },
   "source": "In the result set, notice the `GEOMETRY` column and how it displays a JSON representation of spatial objects. It should look similar to this:\n\n```\n{\"coordinates\": [[[1.852040750000000e+05, 3.410349640000000e+05], \n[1.852044840000000e+05,3.410359860000000e+05]], \n[[1.852390240000000e+05,3.411219340000000e+05], \n... ,\n[1.852800600000000e+05,3.412219960000000e+05]]   ], \n\"type\": \"MultiLineString\" }\n```\n\nUnlike `GEOGRAPHY`, which treats all points as longitude and latitude on a spherical earth, `GEOMETRY` considers the Earth as a flat surface. More information about Snowflake's specification can be found [here](https://docs.snowflake.com/en/sql-reference/data-types-geospatial.html).\nIn this example it uses scientific notation and the numbers are much larger than latitude and longitude boundaries [-180; 180].\n\nNow look at the same query but in a different format. Run the following query:"
  },
  {
   "cell_type": "code",
   "id": "b3d860b9-4c45-4e4c-9f80-c3e694d9ffcd",
   "metadata": {
    "language": "sql",
    "name": "SQL_8",
    "collapsed": false,
    "resultHeight": 112
   },
   "outputs": [],
   "source": "ALTER SESSION SET geometry_output_format = 'EWKT';",
   "execution_count": null
  },
  {
   "cell_type": "markdown",
   "id": "07a03ad7-d96d-48f8-93af-bf08a8e67a60",
   "metadata": {
    "name": "Markdown_9",
    "collapsed": false,
    "resultHeight": 41
   },
   "source": "Run the previous `SELECT` query again and when done, examine the output in the `GEOMETRY` column."
  },
  {
   "cell_type": "code",
   "id": "988d4f0b-40e3-4ade-95d9-38943f5d40ab",
   "metadata": {
    "language": "sql",
    "name": "SQL_9",
    "collapsed": false,
    "resultHeight": 252
   },
   "outputs": [],
   "source": "SELECT geometry\nFROM nl_cables_stations\nLIMIT 5;",
   "execution_count": null
  },
  {
   "cell_type": "markdown",
   "id": "0596701d-9ae2-4772-8efd-1b61758d87a0",
   "metadata": {
    "name": "Markdown_10",
    "collapsed": false,
    "resultHeight": 134
   },
   "source": "EWKT looks different from GeoJSON, and is arguably more readable. Here you can more clearly see the [geospatial object types](https://docs.snowflake.com/en/sql-reference/data-types-geospatial.html#geospatial-object-types). EWKT also shows the spatial reference identifier and in our example, you have a dataset in [Amersfoort / RD New](https://epsg.io/28992) spatial reference system, that is why the displayed SRID is 28992.\n\nLastly, look at the WKB output. Run the following query:"
  },
  {
   "cell_type": "code",
   "id": "b55a7e75-c348-4e90-a940-fa176a38c357",
   "metadata": {
    "language": "sql",
    "name": "SQL_10",
    "collapsed": false,
    "resultHeight": 112
   },
   "outputs": [],
   "source": "ALTER SESSION SET geometry_output_format = 'WKB';",
   "execution_count": null
  },
  {
   "cell_type": "markdown",
   "id": "8c310c8a-eea9-4bff-bdf3-07dd2889b93e",
   "metadata": {
    "name": "Markdown_11",
    "collapsed": false,
    "resultHeight": 41
   },
   "source": "Run the query again:"
  },
  {
   "cell_type": "code",
   "id": "831b41d8-233b-4b50-a6ed-b758107f9b74",
   "metadata": {
    "language": "sql",
    "name": "SQL_11",
    "collapsed": false,
    "codeCollapsed": false,
    "resultHeight": 252
   },
   "outputs": [],
   "source": "SELECT geometry\nFROM nl_cables_stations \nLIMIT 5;",
   "execution_count": null
  },
  {
   "cell_type": "markdown",
   "id": "f98a5c0d-22a1-4aca-b4d6-7e819c161393",
   "metadata": {
    "name": "Markdown_12",
    "collapsed": false,
    "resultHeight": 227
   },
   "source": "Now that you have a basic understanding of how the `GEOMETRY` data type works and what a geospatial representation of data looks like in various output formats, it's time to walk through a scenario that requires you to use constructors to load data.  You will do it while trying one more way of getting data, namely, from the Shapefile file stored in the external stage. \n\nOne of the files in the external stage contains the polygons of administrative boundaries in the Netherlands. The data is stored in [Shapefile format](https://en.wikipedia.org/wiki/Shapefile) which is not yet supported by Snowflake. But you can load this file using Python UDF and [Dynamic File Access feature](https://docs.snowflake.com/developer-guide/udf/python/udf-python-examples#label-udf-python-read-files). You will also use some packages available in the Snowflake Anaconda channel.\n\nRun the following query that creates a UDF to read shapfiles:"
  },
  {
   "cell_type": "code",
   "id": "363ede7d-9299-4c24-8c47-2dc41d989029",
   "metadata": {
    "language": "sql",
    "name": "SQL_12",
    "collapsed": false,
    "resultHeight": 112
   },
   "outputs": [],
   "source": "CREATE OR REPLACE FUNCTION ADVANCED_ANALYTICS.GEOMETRY.PY_LOAD_GEODATA(PATH_TO_FILE string, filename string)\nRETURNS TABLE (wkt varchar, properties object)\nLANGUAGE PYTHON\nRUNTIME_VERSION = 3.8\nPACKAGES = ('fiona', 'shapely', 'snowflake-snowpark-python')\nHANDLER = 'GeoFileReader'\nAS $$\nfrom shapely.geometry import shape\nfrom snowflake.snowpark.files import SnowflakeFile\nfrom fiona.io import ZipMemoryFile\nclass GeoFileReader:        \n    def process(self, PATH_TO_FILE: str, filename: str):\n    \twith SnowflakeFile.open(PATH_TO_FILE, 'rb') as f:\n    \t\twith ZipMemoryFile(f) as zip:\n    \t\t\twith zip.open(filename) as collection:\n    \t\t\t\tfor record in collection:\n    \t\t\t\t\tyield (shape(record['geometry']).wkt, dict(record['properties']))\n$$;",
   "execution_count": null
  },
  {
   "cell_type": "markdown",
   "id": "c2f94ed3-3ed2-473f-bdd5-ba348295d51a",
   "metadata": {
    "name": "Markdown_13",
    "collapsed": false,
    "resultHeight": 67
   },
   "source": "This UDF reads a Shapefile and returns its content as a table. Under the hood it uses geospatial libraries `fiona` and `shapely`.\nRun the following query to see the content of the uploaded shapefile."
  },
  {
   "cell_type": "code",
   "id": "d86cdcaf-4165-46d4-ae70-724a7e246ac9",
   "metadata": {
    "language": "sql",
    "name": "SQL_13",
    "collapsed": false,
    "codeCollapsed": false,
    "resultHeight": 111
   },
   "outputs": [],
   "source": "ALTER SESSION SET geometry_output_format = 'EWKT';\n\nSELECT to_geometry(wkt) AS geometry,\n       properties:NAME_1::string AS province_name,\n       properties:NAME_2::string AS municipality_name\nFROM table(py_load_geodata(build_scoped_file_url(@ADVANCED_ANALYTICS.GEOMETRY.GEOSTAGE, 'nl_areas.zip'), 'nl_areas.shp'));",
   "execution_count": null
  },
  {
   "cell_type": "markdown",
   "id": "e2f9c431-2234-485e-8103-a8aaed2ab995",
   "metadata": {
    "name": "Markdown_14",
    "collapsed": false,
    "resultHeight": 159
   },
   "source": "This query fails with the error *Geometry validation failed*. The constructor function determines if the shape is valid according to the [Open Geospatial Consortium’s Simple Feature Access / Common Architecture](https://www.ogc.org/standards/sfa) standard. If the shape is invalid, the function reports an error and does not create the GEOMETRY object. That is what happened in our example.\n\nTo fix this you can allow the ingestion of invalid shapes by setting the corresponding parameter to True. Let's run the SELECT statement again, but update the query to see how many shapes are invalid. Run the following query:"
  },
  {
   "cell_type": "code",
   "id": "a9ad4df5-2524-4789-9b70-d201a3dbd112",
   "metadata": {
    "language": "sql",
    "name": "SQL_14",
    "collapsed": false,
    "resultHeight": 439
   },
   "outputs": [],
   "source": "SELECT to_geometry(s => wkt, allowInvalid => True) AS geometry,\n       st_isvalid(geometry) AS is_valid,\n       properties:NAME_1::string AS province_name,\n       properties:NAME_2::string AS municipality_name\nFROM table(py_load_geodata(build_scoped_file_url(@ADVANCED_ANALYTICS.GEOMETRY.GEOSTAGE, 'nl_areas.zip'), 'nl_areas.shp'))\nORDER BY is_valid ASC;",
   "execution_count": null
  },
  {
   "cell_type": "markdown",
   "id": "8849d6e4-514e-42ad-896a-c2d53521e898",
   "metadata": {
    "name": "Markdown_15",
    "collapsed": false,
    "resultHeight": 67
   },
   "source": "This query completed without error and now you see that the shape of the province Zeeland is invalid. Let's repair it by applying the [ST_MakeValid](https://sedona.apache.org/1.5.1/api/snowflake/vector-data/Function/#st_makevalid) function from SedonaSnow Native app:"
  },
  {
   "cell_type": "code",
   "id": "45911992-9463-4f74-b5ea-0590adfa0ceb",
   "metadata": {
    "language": "sql",
    "name": "SQL_15",
    "collapsed": false,
    "resultHeight": 439
   },
   "outputs": [],
   "source": "SELECT SEDONASNOW.SEDONA.st_MakeValid(to_geometry(s => wkt, allowInvalid => True)) AS geometry,\n       st_isvalid(geometry) AS is_valid,\n       (CASE WHEN properties:TYPE_1::string IS NULL THEN 'Municipality' ELSE 'Province' END) AS type,\n       properties:NAME_1::string AS province_name,\n       properties:NAME_2::string AS municipality_name\nFROM table(py_load_geodata(build_scoped_file_url(@ADVANCED_ANALYTICS.GEOMETRY.GEOSTAGE, 'nl_areas.zip'), 'nl_areas.shp'))\nORDER BY is_valid ASC;",
   "execution_count": null
  },
  {
   "cell_type": "markdown",
   "id": "1458bfe5-b110-4935-acb0-a33c6dc53b35",
   "metadata": {
    "name": "Markdown_16",
    "collapsed": false,
    "resultHeight": 134
   },
   "source": "Now all shapes are valid and the data is ready to be ingested. One additional thing you should do is to set SRID, since otherwise it will be set to 0. This dataset is in the reference system [WGS 72 / UTM zone 31N](https://epsg.io/32231), so it makes sense to add the SRID=32231 to the constructor function.\n\nRun the following query:"
  },
  {
   "cell_type": "code",
   "id": "1422f21c-e9d9-406d-84ea-c5834b1efa21",
   "metadata": {
    "language": "sql",
    "name": "SQL_16",
    "collapsed": false,
    "resultHeight": 112
   },
   "outputs": [],
   "source": "CREATE OR REPLACE TABLE ADVANCED_ANALYTICS.GEOMETRY.NL_ADMINISTRATIVE_AREAS AS\nSELECT ST_SETSRID(SEDONASNOW.SEDONA.ST_MakeValid(to_geometry(s => wkt, srid => 32231, allowInvalid => True)), 32231) AS geometry,\n       st_isvalid(geometry) AS is_valid,\n       (CASE WHEN properties:TYPE_1::string IS NULL THEN 'Municipality' ELSE 'Province' END) AS type,\n       properties:NAME_1::string AS province_name,\n       properties:NAME_2::string AS municipality_name\nFROM table(py_load_geodata(build_scoped_file_url(@ADVANCED_ANALYTICS.GEOMETRY.GEOSTAGE, 'nl_areas.zip'), 'nl_areas.shp'))\nORDER BY is_valid ASC;",
   "execution_count": null
  },
  {
   "cell_type": "markdown",
   "id": "05cd00a8-6e25-4492-b0ce-cf6d011835e2",
   "metadata": {
    "name": "Markdown_17",
    "collapsed": false,
    "resultHeight": 350
   },
   "source": "Excellent! Now that all the datasets are successfully loaded, let's proceed to the next exciting step: the analysis.\n\n## Spatial Analysis\n\nTo showcase the capabilities of the GEOMETRY data type, you will explore several use cases. In these scenarios, you'll assume you are an analyst working for an energy utilities company responsible for maintaining electrical grids.\n\n### What is the length of the electricity cables?\nIn the first use case you will calculate the length of electrical cables your organization is responsible for in each administrative area within the Netherlands. You'll be utilizing two datasets: with power infrastructure of the Netherlands and the borders of Dutch administrative areas. First, let's check the sample of each dataset.\n\nRun the following query to see the content of `nl_cables_stations` table:"
  },
  {
   "cell_type": "code",
   "id": "d09c2c52-c859-48b4-8652-a7d0117763d0",
   "metadata": {
    "language": "sql",
    "name": "SQL_17",
    "collapsed": false,
    "resultHeight": 111
   },
   "outputs": [],
   "source": "SELECT geometry, type\nFROM ADVANCED_ANALYTICS.GEOMETRY.NL_CABLES_STATIONS\nLIMIT 5;",
   "execution_count": null
  },
  {
   "cell_type": "markdown",
   "id": "dda165f5-0433-4516-a7a7-17ae78abb931",
   "metadata": {
    "name": "Markdown_18",
    "collapsed": false,
    "resultHeight": 134
   },
   "source": "The spatial data is stored using the `GEOMETRY` data type and employs the Dutch mapping system, `Amersfoort / RD New` (SRID = 28992). \n\nTo view the contents of the table containing the boundaries of the administrative areas in the Netherlands, execute the following query:"
  },
  {
   "cell_type": "code",
   "id": "d1fa6362-1792-41d2-9679-11f3051da322",
   "metadata": {
    "language": "sql",
    "name": "SQL_18",
    "collapsed": false,
    "resultHeight": 252
   },
   "outputs": [],
   "source": "SELECT *\nFROM ADVANCED_ANALYTICS.GEOMETRY.NL_ADMINISTRATIVE_AREAS\nLIMIT 5;",
   "execution_count": null
  },
  {
   "cell_type": "markdown",
   "id": "371318a5-d9a3-4739-bfeb-14d6f2658f0c",
   "metadata": {
    "name": "Markdown_19",
    "collapsed": false,
    "resultHeight": 93
   },
   "source": "In order to compute the length of all cables per administrative area, it's essential that both datasets adhere to the same mapping system. You have two options: either project `nl_administrative_areas` to SRID 28992, or project `nl_cables_stations` to SRID 32231. For this exercise, let's choose the first option. Run the following query:"
  },
  {
   "cell_type": "code",
   "id": "6d7ed077-167b-4e92-aff0-9067954e3ef6",
   "metadata": {
    "language": "sql",
    "name": "SQL_19",
    "collapsed": false,
    "resultHeight": 439
   },
   "outputs": [],
   "source": "SELECT t1.province_name,\n       sum(st_length(t2.geometry)) AS cables_length\nFROM ADVANCED_ANALYTICS.GEOMETRY.NL_ADMINISTRATIVE_AREAS AS t1,\n     ADVANCED_ANALYTICS.GEOMETRY.NL_CABLES_STATIONS AS t2\nWHERE st_intersects(st_transform(t1.geometry, 28992), t2.geometry)\n  AND t1.type = 'Province'\nGROUP BY 1\nORDER BY 2 DESC;",
   "execution_count": null
  },
  {
   "cell_type": "markdown",
   "id": "2d64dd0a-0336-4d13-b7a4-621025867eb1",
   "metadata": {
    "name": "Markdown_20",
    "collapsed": false,
    "resultHeight": 470
   },
   "source": "You have five areas densely covered by electricity cables, those are the ones that your company is responsible for. For your first analysis, you will focus on these areas.\n\n### What cell towers lack electricity cables nearby\n\nIn many areas, especially rural or remote ones, cell towers might be located far from electricity grids. This can pose a challenge in providing a reliable power supply to these towers. They often rely on diesel generators, which can be expensive to operate and maintain and have environmental implications. Furthermore, power outages can lead to disruptions in mobile connectivity, impacting individuals, businesses, and emergency services.\n\nOur analysis aims to identify mobile cell towers that are not near an existing electricity grid. This information could be used to prioritize areas for grid expansion, to improve the efficiency of renewable energy source installations (like solar panels or wind turbines), or to consider alternative energy solutions.\n\nFor this and the next examples let's use `GEOGRAPHY` data type as it can be easily visualized using CARTO. As a first step, let's create `GEOGRAPHY` equivalents for the energy grids and boundaries tables. For that you need to project the `geometry` column in each of the tables into the mapping system WGS 84 (SRID=4326) and then convert to `GEOGRAPHY` data type. Run the following queries that create new tables and enable search optimization for each of them in order to increase the performance of spatial operations. "
  },
  {
   "cell_type": "code",
   "id": "2154bfe0-2504-4702-b6f7-1212ab714bc2",
   "metadata": {
    "language": "sql",
    "name": "SQL_20",
    "collapsed": false,
    "resultHeight": 112
   },
   "outputs": [],
   "source": "// Creating a table with GEOGRAPHY for nl_administrative_areas\nCREATE SCHEMA IF NOT EXISTS ADVANCED_ANALYTICS.GEOGRAPHY;\n\nCREATE OR REPLACE TABLE ADVANCED_ANALYTICS.GEOGRAPHY.NL_ADMINISTRATIVE_AREAS AS\nSELECT to_geography(st_transform(geometry, 4326)) AS geom,\n       type,\n       province_name,\n       municipality_name\nFROM ADVANCED_ANALYTICS.GEOMETRY.nl_administrative_areas\nORDER BY st_geohash(geom);\n\n// Creating a table with GEOGRAPHY for NL_CABLES_STATIONS\nCREATE OR REPLACE TABLE ADVANCED_ANALYTICS.GEOGRAPHY.NL_CABLES_STATIONS AS\nSELECT to_geography(st_transform(geometry, 4326)) AS geom,\n       id,\n       type\nFROM ADVANCED_ANALYTICS.GEOMETRY.NL_CABLES_STATIONS\nORDER BY st_geohash(geom);",
   "execution_count": null
  },
  {
   "cell_type": "markdown",
   "id": "de0ba5b9-5349-435f-a47f-3519fda21346",
   "metadata": {
    "name": "Markdown_21",
    "collapsed": false,
    "resultHeight": 67
   },
   "source": "Now you will create a table with locations of cell towers stored as GEOGRAPHY, just like for the previous two tables. Run the following query:"
  },
  {
   "cell_type": "code",
   "id": "e1703ee3-a623-4f64-a811-b46f294ced28",
   "metadata": {
    "language": "sql",
    "name": "SQL_21",
    "collapsed": false,
    "resultHeight": 112
   },
   "outputs": [],
   "source": "CREATE OR REPLACE TABLE ADVANCED_ANALYTICS.GEOGRAPHY.NL_LTE AS\nSELECT DISTINCT st_point(lon, lat) AS geom,\n                cell_range\nFROM OPENCELLID.PUBLIC.RAW_CELL_TOWERS t1\nWHERE mcc = '204' -- 204 is the mobile country code in the Netherlands\n  AND radio='LTE'",
   "execution_count": null
  },
  {
   "cell_type": "markdown",
   "id": "f482e50c-9fe8-49f0-bdb5-289f87a6c945",
   "metadata": {
    "name": "Markdown_22",
    "collapsed": false,
    "resultHeight": 187
   },
   "source": "Finally, you will find all cell towers that don't have an energy line within a 2-kilometer radius. For each cell tower you'll calculate the distance to the nearest electricity cable. You will use Streamlit library `pydeck` to visualise municipalities and locations of cell towers. \n\nAs a  preparation step you need to import pydeck library that you will use in this Lab. Navigate to the `Packages` drop-down  in the upper right of the Notebook and search for `pydeck`. Click on `pydeck` to add it to the Python packages. Then run the following Python code:"
  },
  {
   "cell_type": "code",
   "id": "229a7447-5885-48f3-b775-b31c703d5b34",
   "metadata": {
    "language": "python",
    "name": "Python_1",
    "collapsed": false,
    "resultHeight": 523,
    "codeCollapsed": false
   },
   "outputs": [],
   "source": "import streamlit as st\nimport pandas as pd\nimport pydeck as pdk\nimport json\nfrom snowflake.snowpark.context import get_active_session\n\nsession = get_active_session()\n\ndef get_celltowers() -> pd.DataFrame:\n    return session.sql(f\"\"\"\n    SELECT province_name,\n    cells.geom\n    FROM ADVANCED_ANALYTICS.GEOGRAPHY.nl_lte cells\n    LEFT JOIN ADVANCED_ANALYTICS.GEOGRAPHY.NL_CABLES_STATIONS cables\n    ON st_dwithin(cells.geom, cables.geom, 2000)\n    JOIN ADVANCED_ANALYTICS.GEOGRAPHY.NL_ADMINISTRATIVE_AREAS areas \n    ON st_contains(areas.geom, cells.geom)\n    WHERE areas.type = 'Municipality'\n    AND areas.province_name in ('Noord-Brabant', 'Overijssel', 'Limburg', 'Groningen', 'Drenthe')\n    AND cables.geom IS NULL; \"\"\").to_pandas()\n\ndef get_boundaries() -> pd.DataFrame:\n    return session.sql(f\"\"\"\n        SELECT st_simplify(GEOM, 10) as geom, municipality_name\n        FROM ADVANCED_ANALYTICS.GEOGRAPHY.NL_ADMINISTRATIVE_AREAS\n        WHERE type = 'Municipality';\n    \"\"\").to_pandas()\n\n\nboundaries = get_boundaries()\nboundaries[\"coordinates\"] = boundaries[\"GEOM\"].apply(lambda row: json.loads(row)[\"coordinates\"][0])\n\ncelltowers = get_celltowers()\ncelltowers[\"lon\"] = celltowers[\"GEOM\"].apply(lambda row: json.loads(row)[\"coordinates\"][0])\ncelltowers[\"lat\"] = celltowers[\"GEOM\"].apply(lambda row: json.loads(row)[\"coordinates\"][1])\n\nlayer_celltowers = pdk.Layer(\n            \"ScatterplotLayer\",\n            celltowers,\n            get_position=[\"lon\", \"lat\"],\n            id=\"celltowers\",\n            stroked=True,\n            filled=True,\n            extruded=False,\n            wireframe=True,\n            get_fill_color=[233, 43, 65],\n            get_line_color=[233, 43, 65],\n            get_radius=300,\n            auto_highlight=True,\n            pickable=False,\n        )\n\nlayer_boundaries = pdk.Layer(\n    \"PolygonLayer\",\n    data=boundaries,\n    id=\"province-layer\",\n    get_polygon=\"coordinates\",\n    extruded=False,\n    opacity=0.9,\n    wireframe=True,\n    pickable=True,\n    stroked=True,\n    filled=True,\n    line_width_min_pixels=1,\n    get_line_color=[17, 86, 127],       # Red color for the border\n    get_fill_color=[43, 181, 233, 30],  # Blue fill with transparency\n    coverage=1\n)\n\n\nst.pydeck_chart(pdk.Deck(\n    map_style=None,\n    initial_view_state=pdk.ViewState(\n        latitude=51.97954426323304,\n        longitude=5.626041932127842, \n        # pitch=45, \n        zoom=8),\n    tooltip={\n            'html': '<b>Province name:</b> {MUNICIPALITY_NAME}',\n             'style': {\n                 'color': 'white'\n                 }\n            },\n    layers=[layer_boundaries, layer_celltowers],\n))\n",
   "execution_count": null
  },
  {
   "cell_type": "markdown",
   "id": "77eb0914-7d4e-4b4a-b284-e9adc4888129",
   "metadata": {
    "name": "Markdown_23",
    "collapsed": false,
    "resultHeight": 853
   },
   "source": "Another way to visualise geospatial data is using open-source geo analytics tool QGIS. Do the following steps:\n* Install the latest [Long Term Version of QGIS](https://qgis.org/download/)\n* Install Snowflake conector. Go to `Plugins` > `All`, search for `Snowflake Connector for QGIS` and click `Install Plugin`.\n* Go to `Layer` > `Data Source Manager` and create a new connection to Snowflake. Call it `SNOWFLAKE` (all letters capital). [Check](https://github.com/snowflakedb/qgis-snowflake-connector?tab=readme-ov-file#getting-started) the documentation to learn mor on how to create new coonection\n* [Download](https://sfquickstarts.s3.us-west-1.amazonaws.com/vhol_spatial_analysis_geometry_geography/energy_grids_nl.qgz) a QGIS project that we created for you and open it in QGIS.\n* If previous steps done correctly, you should be able to see the following layers in QGIS\n    * `ENERGY_GRIDS` (LINESTRING and MULTILINESTRING) - energy frids for Noord-Brabant, Overijssel, Limburg, Groningen, and Drenthe.\n    * `CELL_TOWERS_WITHOUT_CABLES` - cell towers in the regions above that don't have energy grids within radius of 2km.\n    * `Municipalities` (POLYGON and MULTIPOLYGON) - Boundaries of Dutch municipalities.\n\n\n## Conclusion\n\nIn this guide, you acquired geospatial data from the Snowflake Marketplace, explored how the `GEOMETRY` data type works and how it differs from `GEOGRAPHY`. You converted one data type into another and queried geospatial data using parser, constructor, transformation, and used geospatial joins. You then saw how geospatial objects could be visualized using CARTO.\n\nYou are now ready to explore the larger world of Snowflake geospatial support and geospatial functions.\n\n### What we've covered\n* How to acquire a shared database from the Snowflake Marketplace and from External and internal storages.\n* The GEOMETRY data type, its formats GeoJSON, WKT, EWKT, WKB, and EWKB, and how to switch between them.\n* How to use constructors like TO_GEOMETRY, ST_MAKELINE.\n* How to reproject between SRIDs using ST_TRANSFORM.\n* How to perform relational calculations like ST_DWITHIN and ST_INTERSECTS.\n* How to perform measurement calculations like ST_LENGTH.\n* How to use Python UDFs for reading Shapefiles and creating custom functions.\n* How to visualise geospatial data using Streamlit and QGIS"
  }
 ]
}